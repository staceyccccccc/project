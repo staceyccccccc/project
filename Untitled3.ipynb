{
  "nbformat": 4,
  "nbformat_minor": 0,
  "metadata": {
    "colab": {
      "provenance": [],
      "authorship_tag": "ABX9TyNmQcukKR0DQNNH+i72t+u6",
      "include_colab_link": true
    },
    "kernelspec": {
      "name": "python3",
      "display_name": "Python 3"
    },
    "language_info": {
      "name": "python"
    }
  },
  "cells": [
    {
      "cell_type": "markdown",
      "metadata": {
        "id": "view-in-github",
        "colab_type": "text"
      },
      "source": [
        "<a href=\"https://colab.research.google.com/github/staceyccccccc/project/blob/main/Untitled3.ipynb\" target=\"_parent\"><img src=\"https://colab.research.google.com/assets/colab-badge.svg\" alt=\"Open In Colab\"/></a>"
      ]
    },
    {
      "cell_type": "code",
      "source": [
        "import nltk;\n",
        "# importing the NLP(Natural Language Processing) Library\n",
        "from textblob import TextBlob"
      ],
      "metadata": {
        "id": "1l5XrRXWbGtv"
      },
      "execution_count": null,
      "outputs": []
    },
    {
      "cell_type": "code",
      "source": [
        "sentiment_1 = TextBlob(\"I hate scooters\")"
      ],
      "metadata": {
        "id": "i_JG91hpbnm4"
      },
      "execution_count": null,
      "outputs": []
    },
    {
      "cell_type": "code",
      "source": [
        "print(format(sentiment_1.sentiment))"
      ],
      "metadata": {
        "colab": {
          "base_uri": "https://localhost:8080/"
        },
        "id": "JdQ7e3asb9Pa",
        "outputId": "3db2d0f8-282c-4b27-d7f8-e2f39a11d16a"
      },
      "execution_count": null,
      "outputs": [
        {
          "output_type": "stream",
          "name": "stdout",
          "text": [
            "Sentiment(polarity=-0.8, subjectivity=0.9)\n"
          ]
        }
      ]
    },
    {
      "cell_type": "code",
      "source": [
        "sentiment_2 = TextBlob(\"I am travelling\")\n",
        "print(format(sentiment_2.sentiment))"
      ],
      "metadata": {
        "colab": {
          "base_uri": "https://localhost:8080/"
        },
        "id": "E8EZ1kAycMZE",
        "outputId": "528fe7e8-317a-4892-8d79-e5d9bc3912ec"
      },
      "execution_count": null,
      "outputs": [
        {
          "output_type": "stream",
          "name": "stdout",
          "text": [
            "Sentiment(polarity=0.0, subjectivity=0.0)\n"
          ]
        }
      ]
    },
    {
      "cell_type": "code",
      "source": [
        "sentiment_3 = TextBlob(\"I am getting an divorce\")\n",
        "print(format(sentiment_3.sentiment))"
      ],
      "metadata": {
        "colab": {
          "base_uri": "https://localhost:8080/"
        },
        "id": "iHWqyaegcoo_",
        "outputId": "90f82f0c-2160-4085-ac37-acf5b5f5ee56"
      },
      "execution_count": null,
      "outputs": [
        {
          "output_type": "stream",
          "name": "stdout",
          "text": [
            "Sentiment(polarity=0.0, subjectivity=0.0)\n"
          ]
        }
      ]
    },
    {
      "cell_type": "code",
      "source": [
        "# importing the Twitter Library\n",
        "import tweepy"
      ],
      "metadata": {
        "id": "IaSVOATBc5g8"
      },
      "execution_count": null,
      "outputs": []
    },
    {
      "cell_type": "code",
      "source": [
        "# Setting the credentials to twitter API:\n",
        "# Register on twitter to get your own Key:\n",
        "\n",
        "consumer_key = 'nkoshvklsnsnvls654v6s4vi'\n",
        "consumer_secret = 'nosgoisgosopj46s1567fbskio;mj4ururgfo4r5656sopjso'\n",
        "\n",
        "access_token = '4556474664+516+41048894-Url0Vwgwhiouuwgnogjoijiojyeofojegee'\n",
        "access_secret = '749evhjmojvhevmjioe5ujdfvmioik09erk56166464 iohjiojthiujhojhj+654'"
      ],
      "metadata": {
        "id": "GHd0ghcrdEPQ"
      },
      "execution_count": null,
      "outputs": []
    },
    {
      "cell_type": "code",
      "source": [
        "# Authorising the API to acces the credentials and the Platform:\n",
        "\n",
        "auth = tweepy. OAuthHandler(consumer_key, consumer_secret)\n",
        "auth.set_access_token(access_token, access_token)"
      ],
      "metadata": {
        "id": "-Afc25h3jReo"
      },
      "execution_count": null,
      "outputs": []
    },
    {
      "cell_type": "code",
      "source": [
        "from tweepy.error import TweepError\n",
        "api = tweepy.API(auth)\n",
        "\n",
        "public_tweets = api.search('2021')\n",
        "\n",
        "for tweet in public_tweets:\n",
        "    print(tweet.text)\n",
        "    analysis = TextBlob(tweet.text)\n",
        "    print(analysis.sentiment)"
      ],
      "metadata": {
        "id": "b4bXQ7mSl4m-"
      },
      "execution_count": null,
      "outputs": []
    }
  ]
}