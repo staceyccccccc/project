{
  "nbformat": 4,
  "nbformat_minor": 0,
  "metadata": {
    "colab": {
      "provenance": [],
      "authorship_tag": "ABX9TyPWQLdKPeaO6AQl76H43zxQ",
      "include_colab_link": true
    },
    "kernelspec": {
      "name": "python3",
      "display_name": "Python 3"
    },
    "language_info": {
      "name": "python"
    }
  },
  "cells": [
    {
      "cell_type": "markdown",
      "metadata": {
        "id": "view-in-github",
        "colab_type": "text"
      },
      "source": [
        "<a href=\"https://colab.research.google.com/github/staceyccccccc/project/blob/main/Untitled6.ipynb\" target=\"_parent\"><img src=\"https://colab.research.google.com/assets/colab-badge.svg\" alt=\"Open In Colab\"/></a>"
      ]
    },
    {
      "cell_type": "code",
      "execution_count": null,
      "metadata": {
        "colab": {
          "base_uri": "https://localhost:8080/"
        },
        "id": "WOledCiGBgGQ",
        "outputId": "bce13ab8-fac5-488f-9747-9e39929aff23"
      },
      "outputs": [
        {
          "output_type": "stream",
          "name": "stdout",
          "text": [
            "20\n",
            "today is a good day!\n",
            "TODAY IS A GOOD DAY!\n"
          ]
        }
      ],
      "source": [
        "sent = \"Today is a good day!\"\n",
        "new_sent = sent.lower()\n",
        "print(len(sent))\n",
        "print(new_sent)\n",
        "new_sent = sent.upper()\n",
        "print(new_sent)"
      ]
    },
    {
      "cell_type": "code",
      "source": [
        "string_1 = \"Los Angeles\"\n",
        "string_2 = \"Taipei\"\n",
        "string_3 = \"101\"\n",
        "print(f\"I want to go to {string_1}. It's a beautiful city\")\n",
        "print(f\"I want to go to {string_2} {string_3}.\")"
      ],
      "metadata": {
        "colab": {
          "base_uri": "https://localhost:8080/"
        },
        "id": "NOcbQL6RFOGs",
        "outputId": "e78688d9-2692-4f13-96e6-76042da734d1"
      },
      "execution_count": null,
      "outputs": [
        {
          "output_type": "stream",
          "name": "stdout",
          "text": [
            "I want to go to Los Angeles. It's a beautiful city\n",
            "I want to go to Taipei 101.\n"
          ]
        }
      ]
    },
    {
      "cell_type": "code",
      "source": [
        "def wordDetect(s):\n",
        "  if s == s.lower():\n",
        "   print(\"lower\")\n",
        "  elif s == s.upper():\n",
        "   print(\"upper\")\n",
        "  else:\n",
        "   print(\"mixed\")\n",
        "\n",
        "\n",
        "sent = \"Today is a good day\"\n",
        "wordDetect(sent)"
      ],
      "metadata": {
        "colab": {
          "base_uri": "https://localhost:8080/"
        },
        "id": "F4lqsnYHO18V",
        "outputId": "1c1d513f-1165-400a-f92c-a1c8c8f79227"
      },
      "execution_count": null,
      "outputs": [
        {
          "output_type": "stream",
          "name": "stdout",
          "text": [
            "mixed\n"
          ]
        }
      ]
    }
  ]
}